{
 "cells": [
  {
   "cell_type": "code",
   "execution_count": 13,
   "metadata": {},
   "outputs": [],
   "source": [
    "import math\n",
    "from tkinter import *"
   ]
  },
  {
   "cell_type": "code",
   "execution_count": 14,
   "metadata": {},
   "outputs": [],
   "source": [
    "def getRotMatrix(theta):\n",
    "    return [[math.cos(theta), math.sin(theta)],[-math.sin(theta), math.cos(theta)]]\n",
    "\n",
    "def matrix2vector(_matrix, _vector):\n",
    "    x1 = _matrix[0][0] * _vector[0] + _matrix[0][1] * _vector[1]\n",
    "    y1 = _matrix[1][0] * _vector[0] + _matrix[1][1] * _vector[1]\n",
    "    return [x1, y1]\n",
    "\n",
    "def deg2rad(degr):\n",
    "    return  degr / 57.2958\n",
    "\n",
    "def rotateVector(vector, theta):\n",
    "    theta = deg2rad(theta)\n",
    "    return matrix2vector(getRotMatrix(theta), vector)\n",
    "    \n",
    "def getScreenSpace(vector):\n",
    "    vector[1] = screen[1] - vector[1] \n",
    "    return vector\n",
    "\n",
    "def drawLine(source, dst, offset):\n",
    "    x1 = offset[0] + source[0]\n",
    "    y1 = offset[1] + source[1]\n",
    "    x2 = offset[0] + dst[0]\n",
    "    y2 = offset[1] + dst[1]\n",
    "    vec1 = getScreenSpace([x1, y1])\n",
    "    vec2 = getScreenSpace([x2, y2])\n",
    "    canv.create_line(vec1[0], vec1[1], vec2[0], vec2[1])\n",
    "    "
   ]
  },
  {
   "cell_type": "code",
   "execution_count": 15,
   "metadata": {},
   "outputs": [],
   "source": [
    "def drawBase(source, side, angle, deep):\n",
    "    p1 = rotateVector([0, 0], angle)\n",
    "    p2 = rotateVector([side, 0], angle)\n",
    "    p3 = rotateVector([side, side], angle)\n",
    "    p4 = rotateVector([0, side], angle)\n",
    "    p5 = rotateVector([side/2, 3/2 * side], angle)\n",
    "    drawLine(p1,p2, source)\n",
    "    drawLine(p2,p3, source)\n",
    "    drawLine(p3,p5, source)\n",
    "    drawLine(p5,p4, source)\n",
    "    drawLine(p4,p1, source)\n",
    "    \n",
    "    offset1 = [source[0] + p5[0], source[1] + p5[1]]\n",
    "    offset2 = [source[0] + p4[0], source[1] + p4[1]]\n",
    "    \n",
    "    if (deep > 0):\n",
    "        deep -= 1\n",
    "        drawBase(offset1, side * math.sqrt(2) / 2, angle + 45, deep)\n",
    "        drawBase(offset2, side * math.sqrt(2) / 2, angle - 45, deep)\n"
   ]
  },
  {
   "cell_type": "code",
   "execution_count": 16,
   "metadata": {},
   "outputs": [],
   "source": [
    "root=Tk();\n",
    "root.title(\"Pifagor's tree\")\n",
    "\n",
    "screen = [900, 600]\n",
    "canv = Canvas(root, width = screen[0], height = screen[1], bg = \"lightgreen\")\n",
    "canv.pack()\n",
    "\n",
    "drawBase([300, 300], 50, 0, 10)\n",
    "\n",
    "root.mainloop()"
   ]
  },
  {
   "cell_type": "code",
   "execution_count": null,
   "metadata": {},
   "outputs": [],
   "source": []
  }
 ],
 "metadata": {
  "kernelspec": {
   "display_name": "Python 3",
   "language": "python",
   "name": "python3"
  },
  "language_info": {
   "codemirror_mode": {
    "name": "ipython",
    "version": 3
   },
   "file_extension": ".py",
   "mimetype": "text/x-python",
   "name": "python",
   "nbconvert_exporter": "python",
   "pygments_lexer": "ipython3",
   "version": "3.7.2"
  }
 },
 "nbformat": 4,
 "nbformat_minor": 2
}
